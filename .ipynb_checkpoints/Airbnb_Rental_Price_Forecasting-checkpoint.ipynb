{
 "cells": [
  {
   "cell_type": "markdown",
   "id": "59567414",
   "metadata": {},
   "source": [
    "# Project Code"
   ]
  },
  {
   "cell_type": "markdown",
   "id": "44da69b5",
   "metadata": {},
   "source": [
    "### Data Preprocessing - Krishna"
   ]
  },
  {
   "cell_type": "code",
   "execution_count": null,
   "id": "4c945ee7",
   "metadata": {},
   "outputs": [],
   "source": []
  },
  {
   "cell_type": "markdown",
   "id": "fa52e4d0",
   "metadata": {},
   "source": [
    "### EDA - Harshita"
   ]
  },
  {
   "cell_type": "code",
   "execution_count": null,
   "id": "6eaf780b",
   "metadata": {},
   "outputs": [],
   "source": []
  },
  {
   "cell_type": "markdown",
   "id": "9bcc7ce1",
   "metadata": {},
   "source": [
    "### Outlier Detection - Harshita"
   ]
  },
  {
   "cell_type": "code",
   "execution_count": null,
   "id": "87f217aa",
   "metadata": {},
   "outputs": [],
   "source": []
  },
  {
   "cell_type": "markdown",
   "id": "13692223",
   "metadata": {},
   "source": [
    "### Feature Selection - Krishna"
   ]
  },
  {
   "cell_type": "code",
   "execution_count": null,
   "id": "1c7a2fb8",
   "metadata": {},
   "outputs": [],
   "source": []
  },
  {
   "cell_type": "markdown",
   "id": "ec76c980",
   "metadata": {},
   "source": [
    "## Linear Regression - Harshita"
   ]
  },
  {
   "cell_type": "code",
   "execution_count": null,
   "id": "8dbc47ed",
   "metadata": {},
   "outputs": [],
   "source": []
  },
  {
   "cell_type": "markdown",
   "id": "86c65804",
   "metadata": {},
   "source": [
    "#### Model Evaluation"
   ]
  },
  {
   "cell_type": "code",
   "execution_count": null,
   "id": "85f6cd0b",
   "metadata": {},
   "outputs": [],
   "source": []
  },
  {
   "cell_type": "markdown",
   "id": "32a03f75",
   "metadata": {},
   "source": [
    "## Random Forest - Krishna"
   ]
  },
  {
   "cell_type": "code",
   "execution_count": null,
   "id": "9f267ea0",
   "metadata": {},
   "outputs": [],
   "source": []
  },
  {
   "cell_type": "markdown",
   "id": "992057d5",
   "metadata": {},
   "source": [
    "#### Model Evaluation"
   ]
  },
  {
   "cell_type": "code",
   "execution_count": null,
   "id": "11ec3c91",
   "metadata": {},
   "outputs": [],
   "source": []
  },
  {
   "cell_type": "markdown",
   "id": "60f1161d",
   "metadata": {},
   "source": [
    "## XGBoost - Krishna"
   ]
  },
  {
   "cell_type": "code",
   "execution_count": null,
   "id": "8b2e9e0d",
   "metadata": {},
   "outputs": [],
   "source": []
  },
  {
   "cell_type": "markdown",
   "id": "b192abc3",
   "metadata": {},
   "source": [
    "#### Model Evaluation"
   ]
  },
  {
   "cell_type": "code",
   "execution_count": null,
   "id": "2debfd7b",
   "metadata": {},
   "outputs": [],
   "source": []
  },
  {
   "cell_type": "markdown",
   "id": "212bb90f",
   "metadata": {},
   "source": [
    "## Meta Model"
   ]
  },
  {
   "cell_type": "code",
   "execution_count": null,
   "id": "be7cd1e4",
   "metadata": {},
   "outputs": [],
   "source": []
  },
  {
   "cell_type": "markdown",
   "id": "01bb4b06",
   "metadata": {},
   "source": [
    "#### Model Evaluation"
   ]
  },
  {
   "cell_type": "code",
   "execution_count": null,
   "id": "f2322006",
   "metadata": {},
   "outputs": [],
   "source": []
  }
 ],
 "metadata": {
  "kernelspec": {
   "display_name": "Python 3 (ipykernel)",
   "language": "python",
   "name": "python3"
  },
  "language_info": {
   "codemirror_mode": {
    "name": "ipython",
    "version": 3
   },
   "file_extension": ".py",
   "mimetype": "text/x-python",
   "name": "python",
   "nbconvert_exporter": "python",
   "pygments_lexer": "ipython3",
   "version": "3.11.4"
  }
 },
 "nbformat": 4,
 "nbformat_minor": 5
}
